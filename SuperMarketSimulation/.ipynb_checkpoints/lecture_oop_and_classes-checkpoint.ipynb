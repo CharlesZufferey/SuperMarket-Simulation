{
 "cells": [
  {
   "cell_type": "markdown",
   "metadata": {},
   "source": [
    "# 1) Object Oriented Programming (OOP)\n",
    "\n",
    "**Programming paradigm** based on the concept of **objects**:\n",
    "> Programs are designed by making them out of objects that interct with each other\n",
    "\n",
    "\n",
    "## Objects\n",
    "\n",
    "1. Objects represent (tangible) **real world objects** (or concepts).\n",
    "2. Objects can **contain data** (They are called _attributes_ in Python). The attributes are used to describe the state of an object.\n",
    "3. Objects can **contain functions** (They are called _methods_ in Python). The methods are used to alter the state of the object or let the object do something.\n",
    "\n",
    "#### Which objects can you detect in this image?\n",
    "\n",
    "![title](poker.jpg)\n",
    "\n",
    "Photo by Michał Parzuchowski on Unsplash"
   ]
  },
  {
   "cell_type": "markdown",
   "metadata": {},
   "source": [
    "- Player (8 different players)\n",
    "> Attributes: Name, Stack Size, Bet, Cards, Playing Style, ...<br>\n",
    "> Methods: Fold, Check, Call, Raise\n",
    "\n",
    "- Card (52 cards)\n",
    "> Attributes: Face, Suit<br>\n",
    "> Methods: -\n",
    "\n",
    "- Game (1 Game)\n",
    "> Attributes: Nr. of Players, Limit, Small Blind, Position of Dealer Button, ...<br>\n",
    "> Methods: Deal Cards, Betting round, Evaluate Hands, ...\n",
    "\n",
    "\n",
    "#### How would we implement them in Python?"
   ]
  },
  {
   "cell_type": "markdown",
   "metadata": {},
   "source": [
    "# 2) Classes\n",
    "\n",
    "A class defines the data formats (attributes) and available procedures (methods) for a given class of objects.\n",
    "\n",
    "## Classes vs. Objects\n",
    "\n",
    "The concept of a player in poker is a class, the 8 tangible players are objects. Classes are blueprints of objects.\n",
    "\n",
    "## Class Syntax in Python\n",
    "\n",
    "#### Let us create the class Player"
   ]
  },
  {
   "cell_type": "code",
   "execution_count": 162,
   "metadata": {},
   "outputs": [],
   "source": [
    "class Player:\n",
    "    pass"
   ]
  },
  {
   "cell_type": "markdown",
   "metadata": {},
   "source": [
    "#### Instanciate the class"
   ]
  },
  {
   "cell_type": "code",
   "execution_count": 163,
   "metadata": {},
   "outputs": [],
   "source": [
    "Edwin = Player()"
   ]
  },
  {
   "cell_type": "code",
   "execution_count": 164,
   "metadata": {},
   "outputs": [
    {
     "data": {
      "text/plain": [
       "<__main__.Player at 0x1a1c6047f0>"
      ]
     },
     "execution_count": 164,
     "metadata": {},
     "output_type": "execute_result"
    }
   ],
   "source": [
    "Edwin"
   ]
  },
  {
   "cell_type": "markdown",
   "metadata": {},
   "source": [
    "#### Include a docstring\n",
    "\n",
    "It is good practice to include the docstring as documentation in a class (or a function, method)"
   ]
  },
  {
   "cell_type": "code",
   "execution_count": 166,
   "metadata": {},
   "outputs": [],
   "source": [
    "class Player:\n",
    "    '''\n",
    "    The class Player is ablueprint for a poker player.\n",
    "    '''\n",
    "    pass"
   ]
  },
  {
   "cell_type": "code",
   "execution_count": 168,
   "metadata": {},
   "outputs": [],
   "source": [
    "Edwin = Player()"
   ]
  },
  {
   "cell_type": "markdown",
   "metadata": {},
   "source": [
    "#### Write the constructor\n",
    "\n",
    "every class has an constructor `__init__()` where the attributest of the class are defined."
   ]
  },
  {
   "cell_type": "code",
   "execution_count": 171,
   "metadata": {},
   "outputs": [],
   "source": [
    "class Player:\n",
    "    '''\n",
    "    The class Player is ablueprint for a poker player.\n",
    "    '''\n",
    "    \n",
    "    def __init__(self, name, stack_size=1000):\n",
    "        self.name = name\n",
    "        self.stack_size = stack_size"
   ]
  },
  {
   "cell_type": "code",
   "execution_count": 172,
   "metadata": {},
   "outputs": [],
   "source": [
    "player1 = Player('Edwin')"
   ]
  },
  {
   "cell_type": "code",
   "execution_count": 173,
   "metadata": {},
   "outputs": [
    {
     "data": {
      "text/plain": [
       "'Edwin'"
      ]
     },
     "execution_count": 173,
     "metadata": {},
     "output_type": "execute_result"
    }
   ],
   "source": [
    "player1.name"
   ]
  },
  {
   "cell_type": "code",
   "execution_count": 174,
   "metadata": {},
   "outputs": [],
   "source": [
    "player2 = Player('Charles', 1000)"
   ]
  },
  {
   "cell_type": "code",
   "execution_count": 175,
   "metadata": {},
   "outputs": [
    {
     "data": {
      "text/plain": [
       "'Charles'"
      ]
     },
     "execution_count": 175,
     "metadata": {},
     "output_type": "execute_result"
    }
   ],
   "source": [
    "player2.name"
   ]
  },
  {
   "cell_type": "markdown",
   "metadata": {},
   "source": [
    "#### Give the class attributes and methods"
   ]
  },
  {
   "cell_type": "code",
   "execution_count": 176,
   "metadata": {},
   "outputs": [],
   "source": [
    "class Player:\n",
    "    '''\n",
    "    The class Player is ablueprint for a poker player.\n",
    "    \n",
    "    Parameter\n",
    "    -------\n",
    "    \n",
    "    name: Name of the player\n",
    "    stack_size: Amount of chips the player currently has\n",
    "    '''\n",
    "    \n",
    "    def __init__(self, name, stack_size=1000):\n",
    "        self.name = name\n",
    "        self.stack_size = stack_size\n",
    "        self.current_bet = 0\n",
    "\n",
    "    def raise_bet(self, value):\n",
    "        self.current_bet += value\n",
    "        self.stack_size -= value\n",
    "        \n",
    "    def __repr__(self):\n",
    "        return f'Player {self.name} is betting {self.current_bet} and his stack size is {self.stack_size}'"
   ]
  },
  {
   "cell_type": "code",
   "execution_count": 177,
   "metadata": {},
   "outputs": [],
   "source": [
    "player1 = Player('Edwin')"
   ]
  },
  {
   "cell_type": "code",
   "execution_count": 179,
   "metadata": {},
   "outputs": [
    {
     "name": "stdout",
     "output_type": "stream",
     "text": [
      "Player Edwin is betting 0 and his stack size is 1000\n"
     ]
    }
   ],
   "source": [
    "print(player1)"
   ]
  },
  {
   "cell_type": "code",
   "execution_count": 180,
   "metadata": {},
   "outputs": [
    {
     "data": {
      "text/plain": [
       "('Edwin', 1000, 0)"
      ]
     },
     "execution_count": 180,
     "metadata": {},
     "output_type": "execute_result"
    }
   ],
   "source": [
    "player1.name, player1.stack_size, player1.current_bet"
   ]
  },
  {
   "cell_type": "code",
   "execution_count": 181,
   "metadata": {},
   "outputs": [],
   "source": [
    "player1.raise_bet(200)"
   ]
  },
  {
   "cell_type": "code",
   "execution_count": 182,
   "metadata": {},
   "outputs": [
    {
     "data": {
      "text/plain": [
       "('Edwin', 800, 200)"
      ]
     },
     "execution_count": 182,
     "metadata": {},
     "output_type": "execute_result"
    }
   ],
   "source": [
    "player1.name, player1.stack_size, player1.current_bet"
   ]
  },
  {
   "cell_type": "markdown",
   "metadata": {},
   "source": [
    "### Class attributes and class methods\n",
    "\n",
    "- attributes: buy-in and limit (fixed buy-in)\n",
    "- method: set_limit (fixed limit)"
   ]
  },
  {
   "cell_type": "code",
   "execution_count": 183,
   "metadata": {},
   "outputs": [],
   "source": [
    "class Player:\n",
    "    '''\n",
    "    The class Player is ablueprint for a poker player.\n",
    "    \n",
    "    Parameter\n",
    "    -------\n",
    "    \n",
    "    name: Name of the player\n",
    "    stack_size: Amount of chips the player currently has\n",
    "    '''\n",
    "    \n",
    "    buy_in = 1000\n",
    "    limit = 100\n",
    "    \n",
    "    def __init__(self, name):\n",
    "        self.name = name\n",
    "        self.stack_size = self.buy_in\n",
    "        self.current_bet = 0\n",
    "\n",
    "    def raise_bet(self):\n",
    "        self.current_bet += limit\n",
    "        self.stack_size -= limit\n",
    "    \n",
    "    @classmethod\n",
    "    def increase_limit(cls, increase):\n",
    "        cls.limit = cls.limit + increase\n",
    "        \n",
    "    def __repr__(self):\n",
    "        return f'Player {self.name} is betting {self.current_bet} and his stack size is {self.stack_size}'"
   ]
  },
  {
   "cell_type": "code",
   "execution_count": 184,
   "metadata": {},
   "outputs": [],
   "source": [
    "player1 = Player('Edwin')"
   ]
  },
  {
   "cell_type": "code",
   "execution_count": 185,
   "metadata": {},
   "outputs": [],
   "source": [
    "player2 = Player('Charles')"
   ]
  },
  {
   "cell_type": "code",
   "execution_count": 186,
   "metadata": {},
   "outputs": [],
   "source": [
    "Player.increase_limit(100)"
   ]
  },
  {
   "cell_type": "code",
   "execution_count": 187,
   "metadata": {},
   "outputs": [
    {
     "data": {
      "text/plain": [
       "200"
      ]
     },
     "execution_count": 187,
     "metadata": {},
     "output_type": "execute_result"
    }
   ],
   "source": [
    "player1.limit"
   ]
  },
  {
   "cell_type": "code",
   "execution_count": 188,
   "metadata": {},
   "outputs": [
    {
     "data": {
      "text/plain": [
       "200"
      ]
     },
     "execution_count": 188,
     "metadata": {},
     "output_type": "execute_result"
    }
   ],
   "source": [
    "player2.limit"
   ]
  },
  {
   "cell_type": "code",
   "execution_count": 189,
   "metadata": {},
   "outputs": [
    {
     "data": {
      "text/plain": [
       "(1000, 1000)"
      ]
     },
     "execution_count": 189,
     "metadata": {},
     "output_type": "execute_result"
    }
   ],
   "source": [
    "player2.buy_in, player1.buy_in"
   ]
  },
  {
   "cell_type": "markdown",
   "metadata": {},
   "source": [
    "### Static methods\n",
    "\n",
    "A static method does not know anything about the class or instance it was called on."
   ]
  },
  {
   "cell_type": "code",
   "execution_count": 116,
   "metadata": {},
   "outputs": [],
   "source": [
    "GLOBAL = 5\n",
    "\n",
    "class Player:\n",
    "    '''\n",
    "    The class Player is ablueprint for a poker player.\n",
    "    \n",
    "    Parameter\n",
    "    -------\n",
    "    \n",
    "    name: Name of the player\n",
    "    stack_size: Amount of chips the player currently has\n",
    "    '''\n",
    "    \n",
    "    buy_in = 1000\n",
    "    limit = 100\n",
    "    \n",
    "    def __init__(self, name):\n",
    "        self.name = name\n",
    "        self.stack_size = self.buy_in\n",
    "        self.current_bet = 0\n",
    "\n",
    "    def raise_bet(self):\n",
    "        self.current_bet += self.limit\n",
    "        self.stack_size -= self.limit\n",
    "        return self.current_bet\n",
    "    \n",
    "    @classmethod\n",
    "    def increase_limit(cls, increase):\n",
    "        cls.limit = cls.limit + increase\n",
    "        \n",
    "    @staticmethod\n",
    "    def conversion_to_dollar():\n",
    "        return 'One chip is worth 3 dollars'\n",
    "        \n",
    "    def __repr__(self):\n",
    "        return f'Player {self.name} is betting {self.current_bet} and his stack size is {self.stack_size}'"
   ]
  },
  {
   "cell_type": "code",
   "execution_count": 117,
   "metadata": {},
   "outputs": [],
   "source": [
    "player1 = Player('Edwin')"
   ]
  },
  {
   "cell_type": "code",
   "execution_count": 118,
   "metadata": {},
   "outputs": [],
   "source": [
    "GLOBAL = player1.raise_bet()"
   ]
  },
  {
   "cell_type": "code",
   "execution_count": 119,
   "metadata": {},
   "outputs": [
    {
     "data": {
      "text/plain": [
       "100"
      ]
     },
     "execution_count": 119,
     "metadata": {},
     "output_type": "execute_result"
    }
   ],
   "source": [
    "GLOBAL"
   ]
  },
  {
   "cell_type": "code",
   "execution_count": 121,
   "metadata": {},
   "outputs": [],
   "source": [
    "player1.stack_size = 5000000000"
   ]
  },
  {
   "cell_type": "code",
   "execution_count": 122,
   "metadata": {},
   "outputs": [
    {
     "data": {
      "text/plain": [
       "5000000000"
      ]
     },
     "execution_count": 122,
     "metadata": {},
     "output_type": "execute_result"
    }
   ],
   "source": [
    "player1.stack_size"
   ]
  },
  {
   "cell_type": "markdown",
   "metadata": {},
   "source": [
    "### \"Private\" attributes\n",
    "\n",
    "Attributes and methods can be privatized by using `_` (one underscore) in front of the attribute or method name. However, this is just a convention. The attributes can still be accessed and set from the outside.\n",
    "\n",
    "`__` in front of an attribute or method name underscores lead to the attribute or method not being accessible under `object_name.__attribute_name`. This concept is actually used for protecting attributes from being overwritten by subclass attributes (related to the concept of inheritance) and not for privacy."
   ]
  },
  {
   "cell_type": "code",
   "execution_count": 153,
   "metadata": {},
   "outputs": [],
   "source": [
    "GLOBAL = 5\n",
    "\n",
    "class Player:\n",
    "    '''\n",
    "    The class Player is ablueprint for a poker player.\n",
    "    \n",
    "    Parameter\n",
    "    -------\n",
    "    \n",
    "    name: Name of the player\n",
    "    stack_size: Amount of chips the player currently has\n",
    "    '''\n",
    "    \n",
    "    buy_in = 1000\n",
    "    limit = 100\n",
    "    \n",
    "    def __init__(self, name):\n",
    "        self.name = name\n",
    "        self.__stack_size = self.buy_in\n",
    "        self.current_bet = 0\n",
    "\n",
    "    def raise_bet(self):\n",
    "        self.current_bet += self.limit\n",
    "        self.__stack_size -= self.limit\n",
    "        return self.current_bet\n",
    "    \n",
    "    def get_stack_size(self):\n",
    "        print(self.__stack_size)\n",
    "    \n",
    "    @classmethod\n",
    "    def increase_limit(cls, increase):\n",
    "        cls.limit = cls.limit + increase\n",
    "        \n",
    "    @staticmethod\n",
    "    def conversion_to_dollar():\n",
    "        return 'One chip is worth 3 dollars'\n",
    "        \n",
    "    def __repr__(self):\n",
    "        return f'Player {self.name} is betting {self.current_bet} and his stack size is {self.__stack_size}'"
   ]
  },
  {
   "cell_type": "code",
   "execution_count": 142,
   "metadata": {},
   "outputs": [],
   "source": [
    "player1 = Player('Edwin')"
   ]
  },
  {
   "cell_type": "code",
   "execution_count": 134,
   "metadata": {},
   "outputs": [
    {
     "name": "stdout",
     "output_type": "stream",
     "text": [
      "1000\n"
     ]
    }
   ],
   "source": [
    "player1.get_stack_size()"
   ]
  },
  {
   "cell_type": "code",
   "execution_count": 132,
   "metadata": {},
   "outputs": [],
   "source": [
    "player1.__stack_size = 50000000"
   ]
  },
  {
   "cell_type": "code",
   "execution_count": 137,
   "metadata": {},
   "outputs": [
    {
     "data": {
      "text/plain": [
       "500000000"
      ]
     },
     "execution_count": 137,
     "metadata": {},
     "output_type": "execute_result"
    }
   ],
   "source": [
    "player1._Player__stack_size# = 500000000"
   ]
  },
  {
   "cell_type": "markdown",
   "metadata": {},
   "source": [
    "## When and why to use Classes?\n",
    "\n",
    "- Rule of thumb: Using classes starts payong off if you have more than 300-500 lines of code\n",
    "- **Classes are flexible, reproducible and increase readability of the code**"
   ]
  },
  {
   "cell_type": "markdown",
   "metadata": {},
   "source": [
    "## When have you seen or worked with classes before?"
   ]
  },
  {
   "cell_type": "code",
   "execution_count": 159,
   "metadata": {},
   "outputs": [],
   "source": [
    "import pandas as pd"
   ]
  },
  {
   "cell_type": "code",
   "execution_count": null,
   "metadata": {},
   "outputs": [],
   "source": [
    "df = pd.DataFrame()"
   ]
  },
  {
   "cell_type": "code",
   "execution_count": 160,
   "metadata": {},
   "outputs": [],
   "source": [
    "from sklearn.linear_model import LinearRegression"
   ]
  },
  {
   "cell_type": "code",
   "execution_count": 161,
   "metadata": {},
   "outputs": [],
   "source": [
    "m = LinearRegression()"
   ]
  },
  {
   "cell_type": "markdown",
   "metadata": {},
   "source": [
    "### How do classes talk to each other"
   ]
  },
  {
   "cell_type": "code",
   "execution_count": 154,
   "metadata": {},
   "outputs": [],
   "source": [
    "class Game:\n",
    "    '''\n",
    "    ...\n",
    "    '''\n",
    "    \n",
    "    def __init__(self, nr_of_players):\n",
    "        self.players = [Player(i+1) for i in range(nr_of_players)]\n",
    "    \n",
    "    def betting_round(self):\n",
    "        for player in self.players:\n",
    "            player.raise_bet()"
   ]
  },
  {
   "cell_type": "code",
   "execution_count": 155,
   "metadata": {},
   "outputs": [],
   "source": [
    "g = Game(6)"
   ]
  },
  {
   "cell_type": "code",
   "execution_count": 156,
   "metadata": {},
   "outputs": [
    {
     "data": {
      "text/plain": [
       "[Player 1 is betting 0 and his stack size is 1000,\n",
       " Player 2 is betting 0 and his stack size is 1000,\n",
       " Player 3 is betting 0 and his stack size is 1000,\n",
       " Player 4 is betting 0 and his stack size is 1000,\n",
       " Player 5 is betting 0 and his stack size is 1000,\n",
       " Player 6 is betting 0 and his stack size is 1000]"
      ]
     },
     "execution_count": 156,
     "metadata": {},
     "output_type": "execute_result"
    }
   ],
   "source": [
    "g.players"
   ]
  },
  {
   "cell_type": "code",
   "execution_count": 157,
   "metadata": {},
   "outputs": [],
   "source": [
    "g.betting_round()"
   ]
  },
  {
   "cell_type": "code",
   "execution_count": 158,
   "metadata": {},
   "outputs": [
    {
     "data": {
      "text/plain": [
       "[Player 1 is betting 100 and his stack size is 900,\n",
       " Player 2 is betting 100 and his stack size is 900,\n",
       " Player 3 is betting 100 and his stack size is 900,\n",
       " Player 4 is betting 100 and his stack size is 900,\n",
       " Player 5 is betting 100 and his stack size is 900,\n",
       " Player 6 is betting 100 and his stack size is 900]"
      ]
     },
     "execution_count": 158,
     "metadata": {},
     "output_type": "execute_result"
    }
   ],
   "source": [
    "g.players"
   ]
  },
  {
   "cell_type": "code",
   "execution_count": null,
   "metadata": {},
   "outputs": [],
   "source": []
  }
 ],
 "metadata": {
  "kernelspec": {
   "display_name": "Python 3",
   "language": "python",
   "name": "python3"
  },
  "language_info": {
   "codemirror_mode": {
    "name": "ipython",
    "version": 3
   },
   "file_extension": ".py",
   "mimetype": "text/x-python",
   "name": "python",
   "nbconvert_exporter": "python",
   "pygments_lexer": "ipython3",
   "version": "3.7.4"
  }
 },
 "nbformat": 4,
 "nbformat_minor": 2
}
